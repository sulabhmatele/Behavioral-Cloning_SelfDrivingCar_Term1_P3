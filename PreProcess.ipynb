{
 "cells": [
  {
   "cell_type": "code",
   "execution_count": 1,
   "metadata": {
    "collapsed": false,
    "scrolled": true
   },
   "outputs": [
    {
     "ename": "FileNotFoundError",
     "evalue": "[Errno 2] No such file or directory: 'more_driving_log.csv'",
     "traceback": [
      "\u001b[0;31m---------------------------------------------------------------------------\u001b[0m",
      "\u001b[0;31mFileNotFoundError\u001b[0m                         Traceback (most recent call last)",
      "\u001b[0;32m<ipython-input-1-96eeeb432f1a>\u001b[0m in \u001b[0;36m<module>\u001b[0;34m()\u001b[0m\n\u001b[1;32m     64\u001b[0m \u001b[0mlines\u001b[0m \u001b[0;34m=\u001b[0m \u001b[0;34m[\u001b[0m\u001b[0;34m]\u001b[0m\u001b[0;34m\u001b[0m\u001b[0m\n\u001b[1;32m     65\u001b[0m \u001b[0;34m\u001b[0m\u001b[0m\n\u001b[0;32m---> 66\u001b[0;31m \u001b[0;32mwith\u001b[0m \u001b[0mopen\u001b[0m \u001b[0;34m(\u001b[0m\u001b[0;34m'more_driving_log.csv'\u001b[0m\u001b[0;34m)\u001b[0m \u001b[0;32mas\u001b[0m \u001b[0mcsvfile\u001b[0m\u001b[0;34m:\u001b[0m\u001b[0;34m\u001b[0m\u001b[0m\n\u001b[0m\u001b[1;32m     67\u001b[0m     \u001b[0mreader\u001b[0m \u001b[0;34m=\u001b[0m \u001b[0mcsv\u001b[0m\u001b[0;34m.\u001b[0m\u001b[0mreader\u001b[0m\u001b[0;34m(\u001b[0m\u001b[0mcsvfile\u001b[0m\u001b[0;34m)\u001b[0m\u001b[0;34m\u001b[0m\u001b[0m\n\u001b[1;32m     68\u001b[0m     \u001b[0mcount\u001b[0m \u001b[0;34m=\u001b[0m \u001b[0;36m1\u001b[0m\u001b[0;34m\u001b[0m\u001b[0m\n",
      "\u001b[0;31mFileNotFoundError\u001b[0m: [Errno 2] No such file or directory: 'more_driving_log.csv'"
     ],
     "output_type": "error"
    }
   ],
   "source": [
    "import csv\n",
    "import cv2\n",
    "import numpy as np\n",
    "import matplotlib.pyplot as plt\n",
    "from skimage import exposure,color\n",
    "from skimage import filters,io\n",
    "from PIL import ImageEnhance, Image, ImageDraw\n",
    "\n",
    "def randomBrightness(image):\n",
    "    image = cv2.cvtColor(image, cv2.COLOR_BGR2HSV)  # convert it to hsv\n",
    "    image = np.array(image, dtype=np.float64)\n",
    "    h, s, v = cv2.split(image)\n",
    "    correction = np.random.uniform()\n",
    "    v *= correction\n",
    "    print(correction)\n",
    "    image = cv2.merge([h, s, v])\n",
    "    image = np.array(image, dtype=np.uint8)\n",
    "    image = cv2.cvtColor(image, cv2.COLOR_HSV2RGB)\n",
    "\n",
    "    image = image.squeeze()\n",
    "    plt.figure(figsize=(1, 1))\n",
    "    plt.imshow(image, interpolation='none')\n",
    "    plt.show()\n",
    "\n",
    "def shadowPolygon(image):\n",
    "    image = Image.fromarray(image)\n",
    "    back = Image.new('RGBA', image.size)\n",
    "    back.paste(image)\n",
    "\n",
    "    width, height = image.size\n",
    "    print (height,width)\n",
    "    poly = Image.new('RGBA',  (height, width))\n",
    "    pdraw = ImageDraw.Draw(poly)\n",
    "\n",
    "    htlimit = height - np.random.random_integers(0, 20)\n",
    "    wdlimit = width - np.random.random_integers(0, 20)\n",
    "\n",
    "    x1 = np.random.random_integers(0, wdlimit)\n",
    "    y1 = np.random.random_integers(50, htlimit)\n",
    "    x2 = np.random.random_integers(50, wdlimit)\n",
    "    y2 = np.random.random_integers(100, htlimit)\n",
    "\n",
    "    x3 = np.random.random_integers(0, wdlimit)\n",
    "    y3 = np.random.random_integers(0, htlimit)\n",
    "    x4 = np.random.random_integers(100, wdlimit)\n",
    "    y4 = np.random.random_integers(50, htlimit)\n",
    "\n",
    "    pdraw.polygon([(x1, y1), (x2, y2), (x3, y3), (x4, y4)],\n",
    "                  fill=(100,100,100,180), outline=(0, 0, 0, 0))\n",
    "\n",
    "    back.paste(poly, (0, 0), mask=poly)\n",
    "  #  back.show()\n",
    "  #  plt.waitforbuttonpress()\n",
    "\n",
    "    hsv = np.asarray(back)\n",
    "    ima = cv2.cvtColor(hsv, cv2.COLOR_RGBA2RGB)\n",
    "    mage = ima.squeeze()\n",
    "    plt.figure(figsize=(1, 1))\n",
    "    plt.imshow(mage, interpolation='nearest')\n",
    "    plt.show()\n",
    "\n",
    "\n",
    "images = []\n",
    "lines = []\n",
    "\n",
    "with open ('more_driving_log.csv') as csvfile:\n",
    "    reader = csv.reader(csvfile)\n",
    "    count = 1\n",
    "    for line in reader:\n",
    "        if(count == 1):\n",
    "            lines.append(line)\n",
    "            count = count+1\n",
    "        else:\n",
    "            break\n",
    "\n",
    "\n",
    "for line in lines:\n",
    "    source_path = line[0]\n",
    "    filename = source_path.split('/')[-1]\n",
    "    current_path = 'ALL_IMG/' + filename\n",
    "    image = cv2.imread(current_path)\n",
    "    images.append(image)\n",
    "\n",
    "X_train=np.array(images)\n",
    "\n",
    "X_ = X_train[0]\n",
    "\n",
    "#############################################\n",
    "mage = X_[60:125,].squeeze()\n",
    "plt.figure(figsize=(1, 1))\n",
    "plt.imshow(mage, interpolation='nearest')\n",
    "plt.show()\n",
    "#shadowPolygon(X_[])"
   ]
  },
  {
   "cell_type": "code",
   "execution_count": null,
   "metadata": {
    "collapsed": true
   },
   "outputs": [],
   "source": [
    ""
   ]
  }
 ],
 "metadata": {
  "kernelspec": {
   "display_name": "Python 3",
   "language": "python",
   "name": "python3"
  },
  "language_info": {
   "codemirror_mode": {
    "name": "ipython",
    "version": 3.0
   },
   "file_extension": ".py",
   "mimetype": "text/x-python",
   "name": "python",
   "nbconvert_exporter": "python",
   "pygments_lexer": "ipython3",
   "version": "3.5.2"
  },
  "widgets": {
   "state": {},
   "version": "1.1.2"
  }
 },
 "nbformat": 4,
 "nbformat_minor": 0
}